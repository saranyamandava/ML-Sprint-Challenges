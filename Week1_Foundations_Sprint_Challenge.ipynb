{
  "nbformat": 4,
  "nbformat_minor": 0,
  "metadata": {
    "colab": {
      "name": "Week1_Foundations Sprint Challenge.ipynb",
      "version": "0.3.2",
      "provenance": [],
      "collapsed_sections": []
    },
    "kernelspec": {
      "name": "python3",
      "display_name": "Python 3"
    }
  },
  "cells": [
    {
      "metadata": {
        "id": "Hjem_kCEjNkz",
        "colab_type": "text"
      },
      "cell_type": "markdown",
      "source": [
        "# Mathematical Foundations of Machine Learning\n",
        "\n",
        "There are four objectives in *Functions and Optima*\n",
        "\n",
        "* graph some of the typical shapes of a 2d function\n",
        "* link a function with a table of values\n",
        "* calculate the derivative of `f(x)`\n",
        "\n",
        "There are seven objectives in *Linear Algebra*\n",
        "\n",
        "* create and edit a vector of scalars with numpy\n",
        "* add two vectors together\n",
        "* subtract a vector from another vector\n",
        "* calculate the magnitude of a vector in numpy\n",
        "* multiply a simple affine matrix with a vector\n",
        "* invert a matrix and describe what it does\n",
        "* tranpose a matrix\n",
        "\n",
        "Create solutions for the following code blocks. This exercise should take ~ 3 hours.\n",
        "\n",
        "Share with `mlsubmissions@lambdaschool.com` when finished.\n"
      ]
    },
    {
      "metadata": {
        "id": "gEXZL2ougNqP",
        "colab_type": "code",
        "colab": {}
      },
      "cell_type": "code",
      "source": [
        "# LAMBDA SCHOOL\n",
        "#\n",
        "# MACHINE LEARNING\n",
        "#\n",
        "# MIT LICENSE\n",
        "\n",
        "import numpy as np\n",
        "import matplotlib.pyplot as plt"
      ],
      "execution_count": 0,
      "outputs": []
    },
    {
      "metadata": {
        "id": "IMYdRcCIo7kO",
        "colab_type": "text"
      },
      "cell_type": "markdown",
      "source": [
        "### 1. graph some of the typical shape of a 2d function\n",
        "\n",
        "Draw a graph of $x^2$.\n",
        "\n",
        "Draw a graph of $sin(x)$"
      ]
    },
    {
      "metadata": {
        "id": "ROCz3hqGpWMB",
        "colab_type": "code",
        "colab": {
          "base_uri": "https://localhost:8080/",
          "height": 349
        },
        "outputId": "0e50324b-9359-4235-847e-fa629eedd2a3"
      },
      "cell_type": "code",
      "source": [
        "# x is a numpy array with 25 values.\n",
        "x = np.arange(25)\n",
        "for i in x:\n",
        "  plt.plot(i, i*i,'ro')\n",
        "  plt.plot(i,np.sin(i),'bo')"
      ],
      "execution_count": 0,
      "outputs": [
        {
          "output_type": "display_data",
          "data": {
            "image/png": "[encoded data removed]",
            "text/plain": [
              "<matplotlib.figure.Figure at 0x7f3b66a45be0>"
            ]
          },
          "metadata": {
            "tags": []
          }
        }
      ]
    },
    {
      "metadata": {
        "id": "3Gp46dadphJr",
        "colab_type": "text"
      },
      "cell_type": "markdown",
      "source": [
        "### 2. link a function with a table of values"
      ]
    },
    {
      "metadata": {
        "id": "E_dpXiLqq82n",
        "colab_type": "code",
        "colab": {
          "base_uri": "https://localhost:8080/",
          "height": 364
        },
        "outputId": "a5a25c2c-4c89-43a6-8ed8-7c6afac22a7e"
      },
      "cell_type": "code",
      "source": [
        "x = [[0,1,2,3,4],[-6.28,-3.14,0,3.14,6.28],[0,0,0,0,0]]\n",
        "\n",
        "# plot each function in this table\n",
        "# Are the functions related?\n",
        "#The functions for the first set of point is f(x) = x and  the function third set of points is f(x) = 0(constant function).\n",
        "x_values = x[0]\n",
        "y_values = x[1]\n",
        "z_values = x[2]\n",
        "plt.plot(x_values,'ro')"
      ],
      "execution_count": 3,
      "outputs": [
        {
          "output_type": "execute_result",
          "data": {
            "text/plain": [
              "[<matplotlib.lines.Line2D at 0x7f61b1226208>]"
            ]
          },
          "metadata": {
            "tags": []
          },
          "execution_count": 3
        },
        {
          "output_type": "display_data",
          "data": {
            "image/png": "[encoded data removed]",
            "text/plain": [
              "<matplotlib.figure.Figure at 0x7f61b32cb588>"
            ]
          },
          "metadata": {
            "tags": []
          }
        }
      ]
    },
    {
      "metadata": {
        "id": "_PElpwzdR9Dt",
        "colab_type": "code",
        "colab": {
          "base_uri": "https://localhost:8080/",
          "height": 364
        },
        "outputId": "df840f7b-3215-474e-d8f2-bed010973211"
      },
      "cell_type": "code",
      "source": [
        "#the function for the first two set of points is y =3.14x-6.28\n",
        "plt.plot(x_values,y_values,'yo')"
      ],
      "execution_count": 4,
      "outputs": [
        {
          "output_type": "execute_result",
          "data": {
            "text/plain": [
              "[<matplotlib.lines.Line2D at 0x7f61b11d0128>]"
            ]
          },
          "metadata": {
            "tags": []
          },
          "execution_count": 4
        },
        {
          "output_type": "display_data",
          "data": {
            "image/png": "[encoded data removed]",
            "text/plain": [
              "<matplotlib.figure.Figure at 0x7f61b32b0e10>"
            ]
          },
          "metadata": {
            "tags": []
          }
        }
      ]
    },
    {
      "metadata": {
        "id": "rJ7k0IT8GljP",
        "colab_type": "code",
        "colab": {
          "base_uri": "https://localhost:8080/",
          "height": 364
        },
        "outputId": "5d2712d4-1703-4107-e274-d50aaaf30720"
      },
      "cell_type": "code",
      "source": [
        "#The function for the second set of points is f(x) = 3.14x\n",
        "plt.plot(y_values,'bo')\n"
      ],
      "execution_count": 0,
      "outputs": [
        {
          "output_type": "execute_result",
          "data": {
            "text/plain": [
              "[<matplotlib.lines.Line2D at 0x7f3b66b7fe10>]"
            ]
          },
          "metadata": {
            "tags": []
          },
          "execution_count": 74
        },
        {
          "output_type": "display_data",
          "data": {
            "image/png": "[encoded data removed]",
            "text/plain": [
              "<matplotlib.figure.Figure at 0x7f3b66935940>"
            ]
          },
          "metadata": {
            "tags": []
          }
        }
      ]
    },
    {
      "metadata": {
        "id": "NvMc9xsEIhOm",
        "colab_type": "code",
        "colab": {
          "base_uri": "https://localhost:8080/",
          "height": 364
        },
        "outputId": "0c423631-61c4-4bc3-b5da-b7ea5e849c98"
      },
      "cell_type": "code",
      "source": [
        "plt.plot(z_values,'go')"
      ],
      "execution_count": 0,
      "outputs": [
        {
          "output_type": "execute_result",
          "data": {
            "text/plain": [
              "[<matplotlib.lines.Line2D at 0x7f3b669adb70>]"
            ]
          },
          "metadata": {
            "tags": []
          },
          "execution_count": 77
        },
        {
          "output_type": "display_data",
          "data": {
            "image/png": "[encoded data removed]",
            "text/plain": [
              "<matplotlib.figure.Figure at 0x7f3b66b9db00>"
            ]
          },
          "metadata": {
            "tags": []
          }
        }
      ]
    },
    {
      "metadata": {
        "id": "FQh0YUbSHa7A",
        "colab_type": "text"
      },
      "cell_type": "markdown",
      "source": [
        "The above two graphs looks the same"
      ]
    },
    {
      "metadata": {
        "id": "T18SMN8XsIiL",
        "colab_type": "text"
      },
      "cell_type": "markdown",
      "source": [
        "### 3. calculate the derivative of f(x)"
      ]
    },
    {
      "metadata": {
        "id": "oiuoP1YbsQ_-",
        "colab_type": "code",
        "colab": {
          "base_uri": "https://localhost:8080/",
          "height": 51
        },
        "outputId": "0bb92abe-dde7-44b8-a284-a73b8c756a85"
      },
      "cell_type": "code",
      "source": [
        "x = 90\n",
        "def f(x):\n",
        " # return the derivative of sin(x) at x \n",
        " \n",
        " h = 0.1\n",
        " a = np.sin(x+h)\n",
        " b = np.sin(x)\n",
        " return ((a-b)/h)  \n",
        "\n",
        "\n",
        "d_f = f(x)\n",
        "print (d_f)\n",
        "  \n",
        "def fd(x,y):\n",
        " # return the derivative at the first pair of values of y\n",
        " return ((y[1]-y[0])/x[1]-x[0]) \n",
        "  \n",
        "\n",
        "d_fd = fd([0,1],[0,-2])\n",
        "print (d_fd)"
      ],
      "execution_count": 0,
      "outputs": [
        {
          "output_type": "stream",
          "text": [
            "-0.49198979580816093\n",
            "-2.0\n"
          ],
          "name": "stdout"
        }
      ]
    },
    {
      "metadata": {
        "id": "gR58aBH_sysw",
        "colab_type": "text"
      },
      "cell_type": "markdown",
      "source": [
        "### 4. create and edit a vector of scalars"
      ]
    },
    {
      "metadata": {
        "id": "OqoDU_lytAd0",
        "colab_type": "code",
        "colab": {
          "base_uri": "https://localhost:8080/",
          "height": 34
        },
        "outputId": "73dcab07-2c74-4e72-958b-bc3b5ab33c88"
      },
      "cell_type": "code",
      "source": [
        "# Create a vector v containing seven 1s\n",
        "v = np.array([1,1,1,1,1,1,1])\n",
        "None\n",
        "v[3] = -1\n",
        "# Set the 4th element of x to -1\n",
        "print (v)\n",
        "None"
      ],
      "execution_count": 0,
      "outputs": [
        {
          "output_type": "stream",
          "text": [
            "[ 1  1  1 -1  1  1  1]\n"
          ],
          "name": "stdout"
        }
      ]
    },
    {
      "metadata": {
        "id": "UO1l6GIHtFQq",
        "colab_type": "text"
      },
      "cell_type": "markdown",
      "source": [
        "### 5. add two vectors together\n",
        "\n",
        "$z = \\begin{pmatrix} 2 \\\\ -1 \\end{pmatrix} + \\begin{pmatrix} 2 \\\\ -1 \\end{pmatrix}$"
      ]
    },
    {
      "metadata": {
        "id": "1IwIqoCotFjh",
        "colab_type": "code",
        "colab": {
          "base_uri": "https://localhost:8080/",
          "height": 51
        },
        "outputId": "299a0170-437b-4a43-c0c5-e674e60b334a"
      },
      "cell_type": "code",
      "source": [
        "# x =\n",
        "x = np.array([[2],[-1]])\n",
        "# y =\n",
        "y = np.array([[2],[-1]])\n",
        "# z =\n",
        "z = x + y\n",
        "print (z)"
      ],
      "execution_count": 0,
      "outputs": [
        {
          "output_type": "stream",
          "text": [
            "[[ 4]\n",
            " [-2]]\n"
          ],
          "name": "stdout"
        }
      ]
    },
    {
      "metadata": {
        "id": "HIh6q1Vatfny",
        "colab_type": "text"
      },
      "cell_type": "markdown",
      "source": [
        "### 5. subtract a vector from another vector\n",
        "\n",
        "$z = \\begin{pmatrix} 1 \\\\ 3 \\end{pmatrix} - \\begin{pmatrix} -2 \\\\ -3.5 \\end{pmatrix}$"
      ]
    },
    {
      "metadata": {
        "id": "9d8B5zZntfza",
        "colab_type": "code",
        "colab": {
          "base_uri": "https://localhost:8080/",
          "height": 51
        },
        "outputId": "7aadaa4c-444a-4c5c-9c25-60c453515204"
      },
      "cell_type": "code",
      "source": [
        "# x = \n",
        "x = np.array([[1],[3]])\n",
        "# y =\n",
        "y = np.array([[-2],[-3.5]])\n",
        "# z =\n",
        "z = x - y\n",
        "print (z)"
      ],
      "execution_count": 0,
      "outputs": [
        {
          "output_type": "stream",
          "text": [
            "[[3. ]\n",
            " [6.5]]\n"
          ],
          "name": "stdout"
        }
      ]
    },
    {
      "metadata": {
        "id": "GuQIppvztwic",
        "colab_type": "text"
      },
      "cell_type": "markdown",
      "source": [
        "### 6. calculate the magnitude of a vector\n",
        "\n",
        "$|m| = \\sqrt{\\sum{v_i^2}}$"
      ]
    },
    {
      "metadata": {
        "id": "Bq4SRNGxtwtg",
        "colab_type": "code",
        "colab": {
          "base_uri": "https://localhost:8080/",
          "height": 34
        },
        "outputId": "81482e2d-4a2d-4063-cf3d-cc7d1eeb53be"
      },
      "cell_type": "code",
      "source": [
        "v = [1,2,3,4,5]\n",
        "import math\n",
        "# what's the magnitude of v?\n",
        "magnitude = np.linalg.norm(v)\n",
        "print (magnitude)"
      ],
      "execution_count": 0,
      "outputs": [
        {
          "output_type": "stream",
          "text": [
            "7.416198487095663\n"
          ],
          "name": "stdout"
        }
      ]
    },
    {
      "metadata": {
        "id": "7RcMUt6DuBhj",
        "colab_type": "text"
      },
      "cell_type": "markdown",
      "source": [
        "### 7. multiply a simple affine matrix with a vector\n",
        "\n",
        "$\\begin{pmatrix} 1.1 & 0.9 & 0 \\\\ 0.8 & 1.2 & 0 \\\\ 1 & -1 & 1 \\end{pmatrix} \\begin{pmatrix} 1 \\\\ 0 \\\\ 1 \\end{pmatrix} = v$"
      ]
    },
    {
      "metadata": {
        "id": "V8NheQtvuBtB",
        "colab_type": "code",
        "colab": {
          "base_uri": "https://localhost:8080/",
          "height": 68
        },
        "outputId": "3d262285-fdeb-422d-c6d2-5caaf9dc0f61"
      },
      "cell_type": "code",
      "source": [
        "# Mv_0 = v\n",
        "\n",
        "None\n",
        "M = np.array([[1.1,0.9,0],[0.8,1.2,0],[1,-1,1]])\n",
        "v_0 = np.array([[1],[0],[1]])\n",
        "v = M*v_0\n",
        "print (v)"
      ],
      "execution_count": 0,
      "outputs": [
        {
          "output_type": "stream",
          "text": [
            "[[ 1.1  0.9  0. ]\n",
            " [ 0.   0.   0. ]\n",
            " [ 1.  -1.   1. ]]\n"
          ],
          "name": "stdout"
        }
      ]
    },
    {
      "metadata": {
        "id": "BEU9fRO9un2j",
        "colab_type": "text"
      },
      "cell_type": "markdown",
      "source": [
        "### 8. invert a matrix and describe what it does\n",
        "\n",
        "$MM^{-1} = I$\n",
        "\n",
        "$M = \\begin{pmatrix} 1.1 & 0.9 \\\\ 0.8 & 1.2 \\end{pmatrix}$"
      ]
    },
    {
      "metadata": {
        "id": "-bPoIcLzun_0",
        "colab_type": "code",
        "colab": {
          "base_uri": "https://localhost:8080/",
          "height": 119
        },
        "outputId": "64c23f42-5924-42a1-bfa1-f348f14ea62a"
      },
      "cell_type": "code",
      "source": [
        "# M\n",
        "M = np.array([[1.1,0.9],[0.8,1.2]])\n",
        "print (M)\n",
        "None\n",
        "\n",
        "# M^{-1}\n",
        "M_1 = np.linalg.inv(M)\n",
        "print(M_1)\n",
        "None\n",
        "\n",
        "# MM^{-1}\n",
        "\n",
        "result = M*M_1\n",
        "print (result)\n",
        "\n",
        "It is easy to solve equations like AX = B just by calculating inverse of A"
      ],
      "execution_count": 0,
      "outputs": [
        {
          "output_type": "stream",
          "text": [
            "[[1.1 0.9]\n",
            " [0.8 1.2]]\n",
            "[[ 2.         -1.5       ]\n",
            " [-1.33333333  1.83333333]]\n",
            "[[ 2.2        -1.35      ]\n",
            " [-1.06666667  2.2       ]]\n"
          ],
          "name": "stdout"
        }
      ]
    },
    {
      "metadata": {
        "id": "X54wAqrdvM4g",
        "colab_type": "text"
      },
      "cell_type": "markdown",
      "source": [
        "### 9. transpose a matrix\n",
        "\n",
        "$M_{(MxN)}^T = M_{(NxM)}^T$\n",
        "\n",
        "$M = \\begin{pmatrix} 1.1 & 0.9 & 0 \\\\ 0.8 & 1.2 & 0 \\end{pmatrix}$"
      ]
    },
    {
      "metadata": {
        "id": "0YoT92CTvNCa",
        "colab_type": "code",
        "colab": {
          "base_uri": "https://localhost:8080/",
          "height": 119
        },
        "outputId": "447fafd9-9fd5-4de8-d7e5-ddf25c85d6da"
      },
      "cell_type": "code",
      "source": [
        "# M\n",
        "\n",
        "None\n",
        "M = np.array([[1.1,0.9,0],[0.8,1.2,0]])\n",
        "print (M)\n",
        "# M^T\n",
        "M_T = M.T\n",
        "print (M_T)\n",
        "None\n",
        "\n",
        "# Shape of M?\n",
        "print (M.shape)"
      ],
      "execution_count": 0,
      "outputs": [
        {
          "output_type": "stream",
          "text": [
            "[[1.1 0.9 0. ]\n",
            " [0.8 1.2 0. ]]\n",
            "[[1.1 0.8]\n",
            " [0.9 1.2]\n",
            " [0.  0. ]]\n",
            "(2, 3)\n"
          ],
          "name": "stdout"
        }
      ]
    }
  ]
}