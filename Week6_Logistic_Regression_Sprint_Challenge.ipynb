{
  "nbformat": 4,
  "nbformat_minor": 0,
  "metadata": {
    "colab": {
      "name": "Week6_Logistic Regression Sprint Challenge.ipynb",
      "version": "0.3.2",
      "provenance": [],
      "collapsed_sections": []
    },
    "kernelspec": {
      "name": "python3",
      "display_name": "Python 3"
    }
  },
  "cells": [
    {
      "cell_type": "markdown",
      "metadata": {
        "id": "view-in-github",
        "colab_type": "text"
      },
      "source": [
        "[View in Colaboratory](https://colab.research.google.com/github/saranyamandava/ML-Sprint-Challenges/blob/master/Week6_Logistic_Regression_Sprint_Challenge.ipynb)"
      ]
    },
    {
      "metadata": {
        "id": "aD8Yb0P8D04e",
        "colab_type": "text"
      },
      "cell_type": "markdown",
      "source": [
        "# Logistic Regression Sprint Challenge\n",
        "\n",
        "Objectives:\n",
        "* Create a training set and train a Logistic Regression model with it\n",
        "* Predict values for $\\hat{y}$ using a test set\n",
        "* Calculate sum-of-squared error $SSE(y,\\hat{y})$\n",
        "* Calculate the error rate of the model as a percentage"
      ]
    },
    {
      "metadata": {
        "id": "aq9MJvtTE6lY",
        "colab_type": "text"
      },
      "cell_type": "markdown",
      "source": [
        "### 1. Compute Linear Regression Model\n",
        "\n",
        "Create a training set and train a Logistic Regression model with it"
      ]
    },
    {
      "metadata": {
        "id": "I8nqyUEREiil",
        "colab_type": "code",
        "colab": {
          "base_uri": "https://localhost:8080/",
          "height": 187
        },
        "outputId": "cf932f00-2343-42d0-aee4-9bf8af6cdfee"
      },
      "cell_type": "code",
      "source": [
        "# Import necessary libraries\n",
        "import pandas as pd\n",
        "import numpy as np\n",
        "from sklearn.linear_model import LogisticRegression\n",
        "import matplotlib.pyplot as plt\n",
        "from sklearn.model_selection import train_test_split\n",
        "\n",
        "#load the data\n",
        "data = pd.read_csv(\"https://www.dropbox.com/s/bnwfu81bjpf22hp/logistic_regression.csv?raw=1\")\n",
        "print (data.head())\n",
        "\n",
        "# Use train_test_split to create a training set\n",
        "\n",
        "X  = data.as_matrix(columns=data.columns[1:3].tolist())\n",
        "Y = data['y'].values\n",
        "x_train, x_test, y_train, y_test = train_test_split(X, Y, test_size=0.25)\n",
        "# Create and train(fit) the model\n",
        "\n",
        "regr = LogisticRegression()\n",
        "regr.fit(x_train,y_train)"
      ],
      "execution_count": 60,
      "outputs": [
        {
          "output_type": "stream",
          "text": [
            "   Unnamed: 0        x1        x2    y\n",
            "0           0  2.903104  3.281307  0.0\n",
            "1           1  3.838055  2.758941  0.0\n",
            "2           2  1.407508  1.485069  0.0\n",
            "3           3  0.332565  1.473001  0.0\n",
            "4           4  2.756526  2.390291  0.0\n"
          ],
          "name": "stdout"
        },
        {
          "output_type": "execute_result",
          "data": {
            "text/plain": [
              "LogisticRegression(C=1.0, class_weight=None, dual=False, fit_intercept=True,\n",
              "          intercept_scaling=1, max_iter=100, multi_class='ovr', n_jobs=1,\n",
              "          penalty='l2', random_state=None, solver='liblinear', tol=0.0001,\n",
              "          verbose=0, warm_start=False)"
            ]
          },
          "metadata": {
            "tags": []
          },
          "execution_count": 60
        }
      ]
    },
    {
      "metadata": {
        "id": "jSfpHHfJFPc5",
        "colab_type": "text"
      },
      "cell_type": "markdown",
      "source": [
        "### 2. Predict values for $\\hat{y}$ for the test set"
      ]
    },
    {
      "metadata": {
        "id": "x3K306_pFUQc",
        "colab_type": "code",
        "colab": {
          "base_uri": "https://localhost:8080/",
          "height": 393
        },
        "outputId": "8631f003-1513-434e-dff2-c0b891c43713"
      },
      "cell_type": "code",
      "source": [
        "# Predict y_hat for the test set created previously\n",
        "y_hat = regr.predict(x_test)\n",
        "print (\"predicted values:\",y_hat)\n",
        "\n",
        "#plot the graph\n",
        "fig, ax = plt.subplots(1, 3)\n",
        "ax[0].scatter(y_test, y_hat)\n",
        "ax[0].set(title='Model', ylabel='Predictions', xlabel='Actual Values')\n",
        "\n",
        "ax[1].scatter(x_train[:,0], x_train[:,1], c=y_train, cmap='bwr')\n",
        "ax[1].set(title='Training Data', ylabel='x2', xlabel='x1')\n",
        "ax[2].scatter(x_test[:,0], x_test[:,1], c=y_test, cmap='bwr')\n",
        "ax[2].set(title='Test Data', xlabel='x1');"
      ],
      "execution_count": 62,
      "outputs": [
        {
          "output_type": "stream",
          "text": [
            "predicted values: [1. 1. 0. 1. 1. 1. 0. 1. 0. 1.]\n"
          ],
          "name": "stdout"
        },
        {
          "output_type": "display_data",
          "data": {
            "image/png": "[encoded data removed]",
            "text/plain": [
              "<matplotlib.figure.Figure at 0x7f7d768975f8>"
            ]
          },
          "metadata": {
            "tags": []
          }
        }
      ]
    },
    {
      "metadata": {
        "id": "nDEdBrtYFjEr",
        "colab_type": "text"
      },
      "cell_type": "markdown",
      "source": [
        "### 3. Calculate SSE for the test-set"
      ]
    },
    {
      "metadata": {
        "id": "B73O-XcrF9Wd",
        "colab_type": "code",
        "colab": {
          "base_uri": "https://localhost:8080/",
          "height": 34
        },
        "outputId": "03bc88f7-31de-4cb5-b209-542e981fd66b"
      },
      "cell_type": "code",
      "source": [
        "# Calculate SSE\n",
        "sse = np.sum((y_hat-y_test)**2)\n",
        "# Print SSE\n",
        "print (sse)"
      ],
      "execution_count": 27,
      "outputs": [
        {
          "output_type": "stream",
          "text": [
            "1.0\n"
          ],
          "name": "stdout"
        }
      ]
    },
    {
      "metadata": {
        "id": "QS0KgX-_QbX6",
        "colab_type": "text"
      },
      "cell_type": "markdown",
      "source": [
        "### 4. Calculate the error rate of the model as a percentage."
      ]
    },
    {
      "metadata": {
        "id": "t2xGVuYcQfAo",
        "colab_type": "code",
        "colab": {
          "base_uri": "https://localhost:8080/",
          "height": 34
        },
        "outputId": "c2cfa054-7ff5-44cf-c90d-e73afb1c2d2d"
      },
      "cell_type": "code",
      "source": [
        "# Calculate percentage\n",
        "error = (sse/len(y_test))*100\n",
        "# Print percentage\n",
        "print (\"Error Percentage:\",error)"
      ],
      "execution_count": 30,
      "outputs": [
        {
          "output_type": "stream",
          "text": [
            "Error Percentage: 10.0\n"
          ],
          "name": "stdout"
        }
      ]
    }
  ]
}