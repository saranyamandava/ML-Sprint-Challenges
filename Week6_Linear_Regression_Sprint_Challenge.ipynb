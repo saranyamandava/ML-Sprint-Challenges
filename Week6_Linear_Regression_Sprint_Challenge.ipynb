{
  "nbformat": 4,
  "nbformat_minor": 0,
  "metadata": {
    "colab": {
      "name": "Week6_Linear Regression Sprint Challenge.ipynb",
      "version": "0.3.2",
      "provenance": [],
      "collapsed_sections": []
    },
    "kernelspec": {
      "name": "python3",
      "display_name": "Python 3"
    }
  },
  "cells": [
    {
      "cell_type": "markdown",
      "metadata": {
        "id": "view-in-github",
        "colab_type": "text"
      },
      "source": [
        "[View in Colaboratory](https://colab.research.google.com/github/saranyamandava/ML-Sprint-Challenges/blob/master/Week6_Linear_Regression_Sprint_Challenge.ipynb)"
      ]
    },
    {
      "metadata": {
        "id": "aD8Yb0P8D04e",
        "colab_type": "text"
      },
      "cell_type": "markdown",
      "source": [
        "# Linear Regression Sprint Challenge\n",
        "\n",
        "Objectives:\n",
        "* Linear regression: the simplest ML model\n",
        "* Use gradient descent to compute LR\n",
        "* Predict a vertex v_i\n",
        "* Use the matrix form to compute linear regression"
      ]
    },
    {
      "metadata": {
        "id": "YP55JnJGEXWN",
        "colab_type": "code",
        "colab": {}
      },
      "cell_type": "code",
      "source": [
        "# Linear Regression is the simplest ML model because:"
      ],
      "execution_count": 0,
      "outputs": []
    },
    {
      "metadata": {
        "id": "xxgwdcg3shuM",
        "colab_type": "text"
      },
      "cell_type": "markdown",
      "source": [
        "Linear regression models are used to show or predict the relationship between two variables or factors. The factor that is being predicted (the factor that the equation solves for) is called the dependent variable. The factors that are used to predict the value of the dependent variable are called the independent variables. \\\\\n",
        "Regression analysis is commonly used in research as it establishes that a correlation exists between variables.  \\\\\n",
        "The simple linear regression equation is represented like this: Ε(y) = (β0 +β1 x). \\\\\n",
        "β0 is the y intercept of the regression line. \\\\\n",
        "\n",
        "β1 is the slope. \\\\\n",
        "\n",
        "Ε(y) is the mean or expected value of y for a given value of x.\n",
        "\n"
      ]
    },
    {
      "metadata": {
        "id": "aq9MJvtTE6lY",
        "colab_type": "text"
      },
      "cell_type": "markdown",
      "source": [
        "### 2. Compute Linear Regression Model\n",
        "\n",
        "Use sklearn.linear_model.LogisticRegression to calculate the linear least-squares best fit minimizing $\\sum{(w_0x + w_1)-y)^2}$."
      ]
    },
    {
      "metadata": {
        "id": "I8nqyUEREiil",
        "colab_type": "code",
        "colab": {
          "base_uri": "https://localhost:8080/",
          "height": 136
        },
        "outputId": "d9a50d62-0dd1-4316-d760-85b1d9ab5138"
      },
      "cell_type": "code",
      "source": [
        "import numpy as np\n",
        "from sklearn import linear_model\n",
        "import matplotlib.pyplot as plt\n",
        "\n",
        "x = np.array([0,1,2,3,4])\n",
        "y = np.array([-1,2,5,5,9])\n",
        "\n",
        "# Compute LR\n",
        "regr = linear_model.LinearRegression()\n",
        "regr.fit(x.reshape(-1,1),y)\n",
        "result = regr.predict(x.reshape(-1,1))\n",
        "\n",
        "sse = np.sum((result-y)**2)\n",
        "print (\"sum of squared eroors:\")\n",
        "print (sse)\n",
        "print (\"\\n\")\n",
        "# Print coefficients\n",
        "print('Coefficients:')\n",
        "w0 = regr.intercept_\n",
        "w1 = regr.coef_\n",
        "print (\"w0:\",w0)\n",
        "print (\"w1:\",w1)"
      ],
      "execution_count": 92,
      "outputs": [
        {
          "output_type": "stream",
          "text": [
            "sum of squared eroors:\n",
            "3.0999999999999996\n",
            "\n",
            "\n",
            "Coefficients:\n",
            "w0: -0.5999999999999996\n",
            "w1: [2.3]\n"
          ],
          "name": "stdout"
        }
      ]
    },
    {
      "metadata": {
        "id": "pkgeshXhqLWg",
        "colab_type": "code",
        "colab": {
          "base_uri": "https://localhost:8080/",
          "height": 393
        },
        "outputId": "52f85115-be95-4272-c996-cda3ff99b41b"
      },
      "cell_type": "code",
      "source": [
        "plt.plot(x, y,'o')\n",
        "\n",
        "smooth_x = np.linspace(-1, 5)\n",
        "plt.plot(smooth_x,w1*smooth_x + w0,'g') \n",
        "plt.xlabel(\"x\")\n",
        "plt.title(\"Model\")\n",
        "plt.ylabel(\"y\")"
      ],
      "execution_count": 99,
      "outputs": [
        {
          "output_type": "execute_result",
          "data": {
            "text/plain": [
              "Text(0,0.5,'y')"
            ]
          },
          "metadata": {
            "tags": []
          },
          "execution_count": 99
        },
        {
          "output_type": "display_data",
          "data": {
            "image/png": "[encoded data removed]",
            "text/plain": [
              "<matplotlib.figure.Figure at 0x7f024ee4a908>"
            ]
          },
          "metadata": {
            "tags": []
          }
        }
      ]
    },
    {
      "metadata": {
        "id": "jSfpHHfJFPc5",
        "colab_type": "text"
      },
      "cell_type": "markdown",
      "source": [
        "### 3. Predict the vertex value $y_i = f(v_i)$"
      ]
    },
    {
      "metadata": {
        "id": "x3K306_pFUQc",
        "colab_type": "code",
        "colab": {
          "base_uri": "https://localhost:8080/",
          "height": 34
        },
        "outputId": "9acfeeac-2acc-41c7-b15b-6cda49b55938"
      },
      "cell_type": "code",
      "source": [
        "v = [7,2]\n",
        "\n",
        "# Use the model above to predict y_i here\n",
        "Y = regr.predict(np.array(v).reshape(-1,1))\n",
        "\n",
        "# Print y\n",
        "print (Y)"
      ],
      "execution_count": 101,
      "outputs": [
        {
          "output_type": "stream",
          "text": [
            "[15.5  4. ]\n"
          ],
          "name": "stdout"
        }
      ]
    },
    {
      "metadata": {
        "id": "cbnHxd1knF_4",
        "colab_type": "code",
        "colab": {
          "base_uri": "https://localhost:8080/",
          "height": 364
        },
        "outputId": "af599868-84b8-4a75-df78-7e2cc50b6a40"
      },
      "cell_type": "code",
      "source": [
        "plt.plot(v,Y,'or')\n",
        "x_smooth = np.linspace(-1, 8)\n",
        "plt.plot(x_smooth, regr.intercept_*x_smooth + regr.coef_, 'g')"
      ],
      "execution_count": 104,
      "outputs": [
        {
          "output_type": "execute_result",
          "data": {
            "text/plain": [
              "[<matplotlib.lines.Line2D at 0x7f024f0ba9e8>]"
            ]
          },
          "metadata": {
            "tags": []
          },
          "execution_count": 104
        },
        {
          "output_type": "display_data",
          "data": {
            "image/png": "[encoded data removed]",
            "text/plain": [
              "<matplotlib.figure.Figure at 0x7f024f0c8748>"
            ]
          },
          "metadata": {
            "tags": []
          }
        }
      ]
    },
    {
      "metadata": {
        "id": "nDEdBrtYFjEr",
        "colab_type": "text"
      },
      "cell_type": "markdown",
      "source": [
        "### 4. Use the matrix form to compute Linear Regression\n",
        "\n",
        "The analytic solution to Linear Least Squares Regression:\n",
        "\n",
        "$(X^TX)^{-1}X^Ty = X^Tx$"
      ]
    },
    {
      "metadata": {
        "id": "B73O-XcrF9Wd",
        "colab_type": "code",
        "colab": {
          "base_uri": "https://localhost:8080/",
          "height": 51
        },
        "outputId": "103fa09b-d8e8-441f-9a42-0bdba5f2bd67"
      },
      "cell_type": "code",
      "source": [
        "# Compute the above equation for x and y\n",
        "# In order to use the analytic solution, we should a columns containg 1's at the begining of the dataset.\n",
        "x = np.column_stack([np.ones(len(x)), x])\n",
        "\n",
        "result = np.matmul(np.matmul(np.linalg.inv(np.matmul(x.T, x)),x.T),y)\n",
        "\n",
        "# Print the coefficients produced from this method, which should be equal to\n",
        "# the coefficients above.\n",
        "print (\"W0:\",result[0])\n",
        "print (\"W1:\",result[1])"
      ],
      "execution_count": 54,
      "outputs": [
        {
          "output_type": "stream",
          "text": [
            "W0: -0.5999999999999988\n",
            "W1: 2.3\n"
          ],
          "name": "stdout"
        }
      ]
    },
    {
      "metadata": {
        "id": "Pzwsj4G8maSs",
        "colab_type": "text"
      },
      "cell_type": "markdown",
      "source": [
        "Hence, the values are matching with values generated using sklearn's logistic regression."
      ]
    }
  ]
}